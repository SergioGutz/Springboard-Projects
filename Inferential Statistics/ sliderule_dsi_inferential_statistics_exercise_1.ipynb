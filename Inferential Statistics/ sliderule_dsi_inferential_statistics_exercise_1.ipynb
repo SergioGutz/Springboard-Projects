{
 "cells": [
  {
   "cell_type": "markdown",
   "metadata": {},
   "source": [
    "# What is the True Normal Human Body Temperature? \n",
    "\n",
    "#### Background\n",
    "\n",
    "The mean normal body temperature was held to be 37$^{\\circ}$C or 98.6$^{\\circ}$F for more than 120 years since it was first conceptualized and reported by Carl Wunderlich in a famous 1868 book. But, is this value statistically correct?"
   ]
  },
  {
   "cell_type": "markdown",
   "metadata": {},
   "source": [
    "<h3>Exercises</h3>\n",
    "\n",
    "<p>In this exercise, you will analyze a dataset of human body temperatures and employ the concepts of hypothesis testing, confidence intervals, and statistical significance.</p>\n",
    "\n",
    "<p>Answer the following questions <b>in this notebook below and submit to your Github account</b>.</p> \n",
    "\n",
    "<ol>\n",
    "<li>  Is the distribution of body temperatures normal? \n",
    "    <ul>\n",
    "    <li> Although this is not a requirement for the Central Limit Theorem to hold (read the introduction on Wikipedia's page about the CLT carefully: https://en.wikipedia.org/wiki/Central_limit_theorem), it gives us some peace of mind that the population may also be normally distributed if we assume that this sample is representative of the population.\n",
    "    <li> Think about the way you're going to check for the normality of the distribution. Graphical methods are usually used first, but there are also other ways: https://en.wikipedia.org/wiki/Normality_test\n",
    "    </ul>\n",
    "<li>  Is the sample size large? Are the observations independent?\n",
    "    <ul>\n",
    "    <li> Remember that this is a condition for the Central Limit Theorem, and hence the statistical tests we are using, to apply.\n",
    "    </ul>\n",
    "<li>  Is the true population mean really 98.6 degrees F?\n",
    "    <ul>\n",
    "    <li> First, try a bootstrap hypothesis test.\n",
    "    <li> Now, let's try frequentist statistical testing. Would you use a one-sample or two-sample test? Why?\n",
    "    <li> In this situation, is it appropriate to use the $t$ or $z$ statistic? \n",
    "    <li> Now try using the other test. How is the result be different? Why?\n",
    "    </ul>\n",
    "<li>  Draw a small sample of size 10 from the data and repeat both frequentist tests. \n",
    "    <ul>\n",
    "    <li> Which one is the correct one to use? \n",
    "    <li> What do you notice? What does this tell you about the difference in application of the $t$ and $z$ statistic?\n",
    "    </ul>\n",
    "<li>  At what temperature should we consider someone's temperature to be \"abnormal\"?\n",
    "    <ul>\n",
    "    <li> As in the previous example, try calculating everything using the boostrap approach, as well as the frequentist approach.\n",
    "    <li> Start by computing the margin of error and confidence interval. When calculating the confidence interval, keep in mind that you should use the appropriate formula for one draw, and not N draws.\n",
    "    </ul>\n",
    "<li>  Is there a significant difference between males and females in normal temperature?\n",
    "    <ul>\n",
    "    <li> What testing approach did you use and why?\n",
    "    <li> Write a story with your conclusion in the context of the original problem.\n",
    "    </ul>\n",
    "</ol>\n",
    "\n",
    "You can include written notes in notebook cells using Markdown: \n",
    "   - In the control panel at the top, choose Cell > Cell Type > Markdown\n",
    "   - Markdown syntax: http://nestacms.com/docs/creating-content/markdown-cheat-sheet\n",
    "\n",
    "#### Resources\n",
    "\n",
    "+ Information and data sources: http://www.amstat.org/publications/jse/datasets/normtemp.txt, http://www.amstat.org/publications/jse/jse_data_archive.htm\n",
    "+ Markdown syntax: http://nestacms.com/docs/creating-content/markdown-cheat-sheet\n",
    "\n",
    "****"
   ]
  },
  {
   "cell_type": "code",
   "execution_count": 1,
   "metadata": {
    "collapsed": true
   },
   "outputs": [],
   "source": [
    "import pandas as pd\n",
    "\n",
    "df = pd.read_csv('data/human_body_temperature.csv')"
   ]
  },
  {
   "cell_type": "code",
   "execution_count": 2,
   "metadata": {
    "collapsed": true
   },
   "outputs": [],
   "source": [
    "#Load libraries\n",
    "import numpy as np\n",
    "from scipy import stats\n",
    "from scipy.stats import norm\n",
    "from scipy.stats import t\n",
    "\n",
    "%matplotlib inline\n",
    "import matplotlib.pyplot as plt\n",
    "import seaborn as sns\n",
    "sns.set()"
   ]
  },
  {
   "cell_type": "code",
   "execution_count": 3,
   "metadata": {},
   "outputs": [
    {
     "name": "stdout",
     "output_type": "stream",
     "text": [
      "<class 'pandas.core.frame.DataFrame'>\n",
      "RangeIndex: 130 entries, 0 to 129\n",
      "Data columns (total 3 columns):\n",
      "temperature    130 non-null float64\n",
      "gender         130 non-null object\n",
      "heart_rate     130 non-null float64\n",
      "dtypes: float64(2), object(1)\n",
      "memory usage: 3.1+ KB\n",
      "None\n"
     ]
    }
   ],
   "source": [
    "#Check info of dataframe\n",
    "print(df.info())"
   ]
  },
  {
   "cell_type": "code",
   "execution_count": 4,
   "metadata": {
    "scrolled": true
   },
   "outputs": [
    {
     "name": "stdout",
     "output_type": "stream",
     "text": [
      "Yes, the distribution of body temperatures appears graphically normal.\n"
     ]
    },
    {
     "data": {
      "image/png": "[encoded data removed]",
      "text/plain": [
       "<matplotlib.figure.Figure at 0x116d80fd0>"
      ]
     },
     "metadata": {},
     "output_type": "display_data"
    }
   ],
   "source": [
    "# Is the distribution of body temperatures normal?\n",
    "\n",
    "# Plot histogram of body temperatures\n",
    "body_temp = np.array(df['temperature'])\n",
    "plt.hist(body_temp, normed=True)\n",
    "plt.xlabel('body temperature')\n",
    "plt.ylabel('pdf')\n",
    "\n",
    "# Plot pdf of body temperatures\n",
    "mean, std = np.mean(body_temp), np.std(body_temp)\n",
    "xmin, xmax = plt.xlim()\n",
    "x = np.linspace(xmin, xmax, 100)\n",
    "pdf = stats.norm.pdf(x, mean, std)\n",
    "plt.plot(x, pdf)\n",
    "\n",
    "print('Yes, the distribution of body temperatures appears graphically normal.')\n",
    "plt.show()"
   ]
  },
  {
   "cell_type": "code",
   "execution_count": 5,
   "metadata": {},
   "outputs": [
    {
     "name": "stdout",
     "output_type": "stream",
     "text": [
      "yes, the sample size is sufficiently large (n >= 30) at 130 observations.\n",
      "yes, the observations are independent as each observation is neither related to or affect another.\n"
     ]
    }
   ],
   "source": [
    "# Is the sample size large? Are the observations independent?\n",
    "print('yes, the sample size is sufficiently large (n >= 30) at 130 observations.')\n",
    "print('yes, the observations are independent as each observation is neither related to or affect another.')"
   ]
  },
  {
   "cell_type": "code",
   "execution_count": 6,
   "metadata": {
    "scrolled": true
   },
   "outputs": [
    {
     "name": "stdout",
     "output_type": "stream",
     "text": [
      "𝐻₀: μ = 98.6\n",
      "𝐻ₐ: μ ≠ 98.6\n",
      "Based on the bootstrap hypothesis test, it appears that we can reject the null hypothesis since the bootstrap temperatures do not equal 98.6.\n"
     ]
    },
    {
     "data": {
      "image/png": "[encoded data removed]",
      "text/plain": [
       "<matplotlib.figure.Figure at 0x11a17c780>"
      ]
     },
     "metadata": {},
     "output_type": "display_data"
    }
   ],
   "source": [
    "# Is the true population mean really 98.6 degrees F?\n",
    "# First, try a bootstrap hypothesis test\n",
    "print('𝐻₀: μ = 98.6')\n",
    "print('𝐻ₐ: μ ≠ 98.6')\n",
    "print('Based on the bootstrap hypothesis test, it appears that we can reject the null hypothesis since the bootstrap temperatures do not equal 98.6.')\n",
    "\n",
    "def draw_bs_reps(data, func, size=1):\n",
    "    bs_replicates = np.empty(size)\n",
    "    for i in range(size):\n",
    "        bs_sample = np.random.choice(data, size=len(data))\n",
    "        bs_replicates[i] = func(bs_sample)\n",
    "    return bs_replicates\n",
    "\n",
    "bs_temp = draw_bs_reps(body_temp, np.mean, 10000)\n",
    "\n",
    "x_theor = np.sort(bs_temp)\n",
    "y_theor = np.arange(1, len(x_theor)+1) / len(x_theor)\n",
    "\n",
    "plt.plot(x_theor, y_theor, marker='.', linestyle='none')\n",
    "plt.xlabel('body temperature')\n",
    "plt.ylabel('CDF')\n",
    "plt.margins(0.02)\n",
    "\n",
    "plt.show()"
   ]
  },
  {
   "cell_type": "code",
   "execution_count": 7,
   "metadata": {},
   "outputs": [
    {
     "name": "stdout",
     "output_type": "stream",
     "text": [
      "A one-sample test will be used to test where a population mean differs from a proposed population mean and not comparing against to another group\n"
     ]
    }
   ],
   "source": [
    "# Now, let's try frequentist statistical testing. Would you use a one-sample or two-sample test? Why?\n",
    "print('A one-sample test will be used to test where a population mean differs from a proposed population mean and not comparing against to another group')"
   ]
  },
  {
   "cell_type": "code",
   "execution_count": 8,
   "metadata": {
    "scrolled": false
   },
   "outputs": [
    {
     "name": "stdout",
     "output_type": "stream",
     "text": [
      "It is appropriate to use a t statistic because we are testing a population mean without a known population variance. \n",
      "\n",
      "The t-statistic is -5.47592520208\n",
      "The p-value is 2.18874646241e-07\n"
     ]
    }
   ],
   "source": [
    "# In this situation, is it appropriate to use the t or z statistic?\n",
    "print('It is appropriate to use a t statistic because we are testing a population mean without a known population variance. \\n')\n",
    "\n",
    "# Calculate t statistic and accompanying p value\n",
    "len_temp = len(body_temp)\n",
    "t_stat = (mean - 98.6) / (std / np.sqrt(len_temp))\n",
    "print('The t-statistic is '+ str(t_stat))\n",
    "\n",
    "t_pval = stats.t.sf(np.abs(t_stat), len_temp-1)*2\n",
    "print('The p-value is '+ str(t_pval))"
   ]
  },
  {
   "cell_type": "code",
   "execution_count": 9,
   "metadata": {},
   "outputs": [
    {
     "name": "stdout",
     "output_type": "stream",
     "text": [
      "The z-score is -5.47592520208\n",
      "The p-value is 4.35231516587e-08\n",
      "\n",
      "The p-values are different because the z test is based a normal distribution with a known population variance, whereas the t test is based on a sample distribution with a sample population variance.\n"
     ]
    }
   ],
   "source": [
    "# Now try using the other test. How is the result be different? Why?\n",
    "z_score = (mean - 98.6) / (std / np.sqrt(len_temp))\n",
    "print('The z-score is '+ str(z_score))\n",
    "\n",
    "z_pval = stats.norm.sf(np.abs(z_score))*2\n",
    "print('The p-value is '+ str(z_pval))\n",
    "\n",
    "print('\\nThe p-values are different because the z test is based a normal distribution with a known population variance, whereas the t test is based on a sample distribution with a sample population variance.')"
   ]
  },
  {
   "cell_type": "code",
   "execution_count": 10,
   "metadata": {},
   "outputs": [
    {
     "name": "stdout",
     "output_type": "stream",
     "text": [
      "The t-statistic is -3.26078041701\n",
      "The p-value is 0.00982646825145\n",
      "\n",
      "\n",
      "The z-score is -2.38137083403\n",
      "The p-value is 0.0172483385352\n"
     ]
    }
   ],
   "source": [
    "# Draw a small sample of size 10 from the data and repeat both frequentist tests.\n",
    "np.random.seed(42)\n",
    "inds = np.arange(len(body_temp))\n",
    "random_inds = np.random.choice(inds, size=10)\n",
    "sm_sample = body_temp[random_inds]\n",
    "sm_mean = np.mean(sm_sample)\n",
    "sm_std = np.std(sm_sample)\n",
    "\n",
    "# Calculate t statistic and accompanying p value\n",
    "sm_tstat = (sm_mean - 98.6) / (sm_std / np.sqrt(10))\n",
    "print('The t-statistic is '+ str(sm_tstat))\n",
    "\n",
    "sm_tpval = stats.t.sf(np.abs(sm_tstat), len(sm_sample)-1)*2\n",
    "print('The p-value is '+ str(sm_tpval))\n",
    "\n",
    "print('\\n')\n",
    "\n",
    "# Calculate z statistic and accompanying p value\n",
    "sm_zscore = (sm_mean - 98.6) / (std / np.sqrt(10))\n",
    "print('The z-score is '+ str(sm_zscore))\n",
    "\n",
    "sm_zpval = stats.norm.sf(np.abs(sm_zscore))*2\n",
    "print('The p-value is '+ str(sm_zpval))"
   ]
  },
  {
   "cell_type": "code",
   "execution_count": 11,
   "metadata": {},
   "outputs": [
    {
     "name": "stdout",
     "output_type": "stream",
     "text": [
      "With a sample size of 10, we now notice the difference in t and z statistic values.  This is a case we the t statistic is better suited for a sample distribution.\n"
     ]
    }
   ],
   "source": [
    "# What do you notice? What does this tell you about the difference in application of the t and z statistic?\n",
    "print('With a sample size of 10, we now notice the difference in t and z statistic values.  This is a case we the t statistic is better suited for a sample distribution.')"
   ]
  },
  {
   "cell_type": "code",
   "execution_count": 12,
   "metadata": {},
   "outputs": [
    {
     "name": "stdout",
     "output_type": "stream",
     "text": [
      "Bootstrap 95% CI: We should consider someones temperature abnormal when outside of [ 98.12538462  98.37309615]\n",
      "Frequentist 95% CI: We should consider someones temperature abnormal when outside of [98.122493188216382, 98.375968350245117]\n"
     ]
    }
   ],
   "source": [
    "# At what temperature should we consider someone's temperature to be \"abnormal\"?\n",
    "\n",
    "# Calculate bootstrap 95% confidence interval\n",
    "bs_confid_int = np.percentile(bs_temp, [2.5, 97.5])\n",
    "bs_confid_int\n",
    "\n",
    "# Calculate frequentist 95% confidence interval\n",
    "t_bounds = t.interval(0.95, len_temp-1)\n",
    "freq_confid_int = [mean + ((crit_val * std) / np.sqrt(len_temp)) for crit_val in t_bounds]\n",
    "\n",
    "margin_of_err = freq_confid_int - mean\n",
    "\n",
    "print('Bootstrap 95% CI: We should consider someones temperature abnormal when outside of '  + str(bs_confid_int))\n",
    "print('Frequentist 95% CI: We should consider someones temperature abnormal when outside of ' + str(freq_confid_int))"
   ]
  },
  {
   "cell_type": "code",
   "execution_count": 13,
   "metadata": {},
   "outputs": [
    {
     "name": "stdout",
     "output_type": "stream",
     "text": [
      "𝐻₀: μ1 - μ2 = 0\n",
      "𝐻ₐ: μ1 - μ2 ≠ 0\n",
      "Since 0 does is not covered within our 95% confidence interval of [-0.53536107224690144, -0.043100466214637839], we can reject the null hypothesis and confidently determine that there is a significant difference between the two groups.\n"
     ]
    }
   ],
   "source": [
    "# Is there a significant difference between males and females in normal temperature?\n",
    "print('𝐻₀: μ1 - μ2 = 0')\n",
    "print('𝐻ₐ: μ1 - μ2 ≠ 0')\n",
    "\n",
    "male_temp = np.array(df.temperature[df.gender == 'M'])\n",
    "female_temp = np.array(df.temperature[df.gender == 'F'])\n",
    "\n",
    "mean_difference = np.mean(male_temp) - np.mean(female_temp)\n",
    "std_difference = np.sqrt((np.var(male_temp)/len(male_temp))+(np.var(female_temp)/len(female_temp)))\n",
    "\n",
    "diff_confid_int = [mean_difference - 1.96*std_difference, mean_difference + 1.96*std_difference]\n",
    "print('Since 0 does is not covered within our 95% confidence interval of ' + str(diff_confid_int) + ', we can reject the null hypothesis and confidently determine that there is a significant difference between the two groups.')"
   ]
  }
 ],
 "metadata": {
  "kernelspec": {
   "display_name": "Python 3",
   "language": "python",
   "name": "python3"
  },
  "language_info": {
   "codemirror_mode": {
    "name": "ipython",
    "version": 3
   },
   "file_extension": ".py",
   "mimetype": "text/x-python",
   "name": "python",
   "nbconvert_exporter": "python",
   "pygments_lexer": "ipython3",
   "version": "3.6.8"
  }
 },
 "nbformat": 4,
 "nbformat_minor": 1
}
